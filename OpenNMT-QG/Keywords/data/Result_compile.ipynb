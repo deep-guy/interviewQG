{
 "cells": [
  {
   "cell_type": "code",
   "execution_count": 1,
   "metadata": {},
   "outputs": [],
   "source": [
    "import pandas as pd"
   ]
  },
  {
   "cell_type": "code",
   "execution_count": 7,
   "metadata": {},
   "outputs": [
    {
     "data": {
      "text/html": [
       "<div>\n",
       "<style scoped>\n",
       "    .dataframe tbody tr th:only-of-type {\n",
       "        vertical-align: middle;\n",
       "    }\n",
       "\n",
       "    .dataframe tbody tr th {\n",
       "        vertical-align: top;\n",
       "    }\n",
       "\n",
       "    .dataframe thead th {\n",
       "        text-align: right;\n",
       "    }\n",
       "</style>\n",
       "<table border=\"1\" class=\"dataframe\">\n",
       "  <thead>\n",
       "    <tr style=\"text-align: right;\">\n",
       "      <th></th>\n",
       "      <th>0</th>\n",
       "      <th>1</th>\n",
       "    </tr>\n",
       "  </thead>\n",
       "  <tbody>\n",
       "    <tr>\n",
       "      <th>0</th>\n",
       "      <td>I have gone through the Job Description and I ...</td>\n",
       "      <td>real time problems gonna learn lot first step ...</td>\n",
       "    </tr>\n",
       "    <tr>\n",
       "      <th>1</th>\n",
       "      <td>During my graduation, we have done a project o...</td>\n",
       "      <td>greatest leadership achievement working togeth...</td>\n",
       "    </tr>\n",
       "    <tr>\n",
       "      <th>2</th>\n",
       "      <td>I have absolutely no problem working under a p...</td>\n",
       "      <td>learn new stuff gather better experience small...</td>\n",
       "    </tr>\n",
       "    <tr>\n",
       "      <th>3</th>\n",
       "      <td>Confidence is when somebody knows his or her s...</td>\n",
       "      <td>lacking substantial knowledge matter solely ba...</td>\n",
       "    </tr>\n",
       "    <tr>\n",
       "      <th>4</th>\n",
       "      <td>I was working as a contract based software dev...</td>\n",
       "      <td>hard work never goes wasted worked together wi...</td>\n",
       "    </tr>\n",
       "  </tbody>\n",
       "</table>\n",
       "</div>"
      ],
      "text/plain": [
       "                                                   0  \\\n",
       "0  I have gone through the Job Description and I ...   \n",
       "1  During my graduation, we have done a project o...   \n",
       "2  I have absolutely no problem working under a p...   \n",
       "3  Confidence is when somebody knows his or her s...   \n",
       "4  I was working as a contract based software dev...   \n",
       "\n",
       "                                                   1  \n",
       "0  real time problems gonna learn lot first step ...  \n",
       "1  greatest leadership achievement working togeth...  \n",
       "2  learn new stuff gather better experience small...  \n",
       "3  lacking substantial knowledge matter solely ba...  \n",
       "4  hard work never goes wasted worked together wi...  "
      ]
     },
     "execution_count": 7,
     "metadata": {},
     "output_type": "execute_result"
    }
   ],
   "source": [
    "df1 = pd.read_csv(\"input.csv\", header=None)\n",
    "df1.head()"
   ]
  },
  {
   "cell_type": "code",
   "execution_count": 10,
   "metadata": {},
   "outputs": [
    {
     "data": {
      "text/html": [
       "<div>\n",
       "<style scoped>\n",
       "    .dataframe tbody tr th:only-of-type {\n",
       "        vertical-align: middle;\n",
       "    }\n",
       "\n",
       "    .dataframe tbody tr th {\n",
       "        vertical-align: top;\n",
       "    }\n",
       "\n",
       "    .dataframe thead th {\n",
       "        text-align: right;\n",
       "    }\n",
       "</style>\n",
       "<table border=\"1\" class=\"dataframe\">\n",
       "  <thead>\n",
       "    <tr style=\"text-align: right;\">\n",
       "      <th></th>\n",
       "      <th>0</th>\n",
       "    </tr>\n",
       "  </thead>\n",
       "  <tbody>\n",
       "    <tr>\n",
       "      <th>0</th>\n",
       "      <td>Are you looking for some help?</td>\n",
       "    </tr>\n",
       "    <tr>\n",
       "      <th>1</th>\n",
       "      <td>Are you sure that is the best way to solve the...</td>\n",
       "    </tr>\n",
       "    <tr>\n",
       "      <th>2</th>\n",
       "      <td>Why do i have to be a younger than himher?</td>\n",
       "    </tr>\n",
       "    <tr>\n",
       "      <th>3</th>\n",
       "      <td>Where do you see yourself in five years?</td>\n",
       "    </tr>\n",
       "    <tr>\n",
       "      <th>4</th>\n",
       "      <td>Why ?</td>\n",
       "    </tr>\n",
       "  </tbody>\n",
       "</table>\n",
       "</div>"
      ],
      "text/plain": [
       "                                                   0\n",
       "0                     Are you looking for some help?\n",
       "1  Are you sure that is the best way to solve the...\n",
       "2         Why do i have to be a younger than himher?\n",
       "3           Where do you see yourself in five years?\n",
       "4                                              Why ?"
      ]
     },
     "execution_count": 10,
     "metadata": {},
     "output_type": "execute_result"
    }
   ],
   "source": [
    "df2 = pd.read_csv('simple_keyword.txt', header = None, delimiter = \"\\n\")\n",
    "df2.head()"
   ]
  },
  {
   "cell_type": "code",
   "execution_count": 14,
   "metadata": {},
   "outputs": [],
   "source": [
    "df = pd.merge(df1, df2, right_index=True, left_index=True)"
   ]
  },
  {
   "cell_type": "code",
   "execution_count": 15,
   "metadata": {},
   "outputs": [
    {
     "data": {
      "text/html": [
       "<div>\n",
       "<style scoped>\n",
       "    .dataframe tbody tr th:only-of-type {\n",
       "        vertical-align: middle;\n",
       "    }\n",
       "\n",
       "    .dataframe tbody tr th {\n",
       "        vertical-align: top;\n",
       "    }\n",
       "\n",
       "    .dataframe thead th {\n",
       "        text-align: right;\n",
       "    }\n",
       "</style>\n",
       "<table border=\"1\" class=\"dataframe\">\n",
       "  <thead>\n",
       "    <tr style=\"text-align: right;\">\n",
       "      <th></th>\n",
       "      <th>0_x</th>\n",
       "      <th>1</th>\n",
       "      <th>0_y</th>\n",
       "    </tr>\n",
       "  </thead>\n",
       "  <tbody>\n",
       "    <tr>\n",
       "      <th>0</th>\n",
       "      <td>I have gone through the Job Description and I ...</td>\n",
       "      <td>real time problems gonna learn lot first step ...</td>\n",
       "      <td>Are you looking for some help?</td>\n",
       "    </tr>\n",
       "    <tr>\n",
       "      <th>1</th>\n",
       "      <td>During my graduation, we have done a project o...</td>\n",
       "      <td>greatest leadership achievement working togeth...</td>\n",
       "      <td>Are you sure that is the best way to solve the...</td>\n",
       "    </tr>\n",
       "    <tr>\n",
       "      <th>2</th>\n",
       "      <td>I have absolutely no problem working under a p...</td>\n",
       "      <td>learn new stuff gather better experience small...</td>\n",
       "      <td>Why do i have to be a younger than himher?</td>\n",
       "    </tr>\n",
       "    <tr>\n",
       "      <th>3</th>\n",
       "      <td>Confidence is when somebody knows his or her s...</td>\n",
       "      <td>lacking substantial knowledge matter solely ba...</td>\n",
       "      <td>Where do you see yourself in five years?</td>\n",
       "    </tr>\n",
       "    <tr>\n",
       "      <th>4</th>\n",
       "      <td>I was working as a contract based software dev...</td>\n",
       "      <td>hard work never goes wasted worked together wi...</td>\n",
       "      <td>Why ?</td>\n",
       "    </tr>\n",
       "  </tbody>\n",
       "</table>\n",
       "</div>"
      ],
      "text/plain": [
       "                                                 0_x  \\\n",
       "0  I have gone through the Job Description and I ...   \n",
       "1  During my graduation, we have done a project o...   \n",
       "2  I have absolutely no problem working under a p...   \n",
       "3  Confidence is when somebody knows his or her s...   \n",
       "4  I was working as a contract based software dev...   \n",
       "\n",
       "                                                   1  \\\n",
       "0  real time problems gonna learn lot first step ...   \n",
       "1  greatest leadership achievement working togeth...   \n",
       "2  learn new stuff gather better experience small...   \n",
       "3  lacking substantial knowledge matter solely ba...   \n",
       "4  hard work never goes wasted worked together wi...   \n",
       "\n",
       "                                                 0_y  \n",
       "0                     Are you looking for some help?  \n",
       "1  Are you sure that is the best way to solve the...  \n",
       "2         Why do i have to be a younger than himher?  \n",
       "3           Where do you see yourself in five years?  \n",
       "4                                              Why ?  "
      ]
     },
     "execution_count": 15,
     "metadata": {},
     "output_type": "execute_result"
    }
   ],
   "source": [
    "df.head()"
   ]
  },
  {
   "cell_type": "code",
   "execution_count": 17,
   "metadata": {},
   "outputs": [
    {
     "data": {
      "text/html": [
       "<div>\n",
       "<style scoped>\n",
       "    .dataframe tbody tr th:only-of-type {\n",
       "        vertical-align: middle;\n",
       "    }\n",
       "\n",
       "    .dataframe tbody tr th {\n",
       "        vertical-align: top;\n",
       "    }\n",
       "\n",
       "    .dataframe thead th {\n",
       "        text-align: right;\n",
       "    }\n",
       "</style>\n",
       "<table border=\"1\" class=\"dataframe\">\n",
       "  <thead>\n",
       "    <tr style=\"text-align: right;\">\n",
       "      <th></th>\n",
       "      <th>Answer</th>\n",
       "      <th>Extracted Keywords</th>\n",
       "      <th>Followup Question</th>\n",
       "    </tr>\n",
       "  </thead>\n",
       "  <tbody>\n",
       "    <tr>\n",
       "      <th>0</th>\n",
       "      <td>I have gone through the Job Description and I ...</td>\n",
       "      <td>real time problems gonna learn lot first step ...</td>\n",
       "      <td>Are you looking for some help?</td>\n",
       "    </tr>\n",
       "    <tr>\n",
       "      <th>1</th>\n",
       "      <td>During my graduation, we have done a project o...</td>\n",
       "      <td>greatest leadership achievement working togeth...</td>\n",
       "      <td>Are you sure that is the best way to solve the...</td>\n",
       "    </tr>\n",
       "    <tr>\n",
       "      <th>2</th>\n",
       "      <td>I have absolutely no problem working under a p...</td>\n",
       "      <td>learn new stuff gather better experience small...</td>\n",
       "      <td>Why do i have to be a younger than himher?</td>\n",
       "    </tr>\n",
       "    <tr>\n",
       "      <th>3</th>\n",
       "      <td>Confidence is when somebody knows his or her s...</td>\n",
       "      <td>lacking substantial knowledge matter solely ba...</td>\n",
       "      <td>Where do you see yourself in five years?</td>\n",
       "    </tr>\n",
       "    <tr>\n",
       "      <th>4</th>\n",
       "      <td>I was working as a contract based software dev...</td>\n",
       "      <td>hard work never goes wasted worked together wi...</td>\n",
       "      <td>Why ?</td>\n",
       "    </tr>\n",
       "  </tbody>\n",
       "</table>\n",
       "</div>"
      ],
      "text/plain": [
       "                                              Answer  \\\n",
       "0  I have gone through the Job Description and I ...   \n",
       "1  During my graduation, we have done a project o...   \n",
       "2  I have absolutely no problem working under a p...   \n",
       "3  Confidence is when somebody knows his or her s...   \n",
       "4  I was working as a contract based software dev...   \n",
       "\n",
       "                                  Extracted Keywords  \\\n",
       "0  real time problems gonna learn lot first step ...   \n",
       "1  greatest leadership achievement working togeth...   \n",
       "2  learn new stuff gather better experience small...   \n",
       "3  lacking substantial knowledge matter solely ba...   \n",
       "4  hard work never goes wasted worked together wi...   \n",
       "\n",
       "                                   Followup Question  \n",
       "0                     Are you looking for some help?  \n",
       "1  Are you sure that is the best way to solve the...  \n",
       "2         Why do i have to be a younger than himher?  \n",
       "3           Where do you see yourself in five years?  \n",
       "4                                              Why ?  "
      ]
     },
     "execution_count": 17,
     "metadata": {},
     "output_type": "execute_result"
    }
   ],
   "source": [
    "df.columns = [\"Answer\", \"Extracted Keywords\", \"Followup Question\"]\n",
    "df.head()"
   ]
  },
  {
   "cell_type": "code",
   "execution_count": 20,
   "metadata": {},
   "outputs": [],
   "source": [
    "df.to_csv(r'Keywords_final_result.csv', index = None)"
   ]
  },
  {
   "cell_type": "code",
   "execution_count": null,
   "metadata": {},
   "outputs": [],
   "source": []
  }
 ],
 "metadata": {
  "kernelspec": {
   "display_name": "Python 3",
   "language": "python",
   "name": "python3"
  },
  "language_info": {
   "codemirror_mode": {
    "name": "ipython",
    "version": 3
   },
   "file_extension": ".py",
   "mimetype": "text/x-python",
   "name": "python",
   "nbconvert_exporter": "python",
   "pygments_lexer": "ipython3",
   "version": "3.7.3"
  }
 },
 "nbformat": 4,
 "nbformat_minor": 2
}
