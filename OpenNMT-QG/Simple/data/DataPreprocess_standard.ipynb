{
 "cells": [
  {
   "cell_type": "code",
   "execution_count": 2,
   "metadata": {},
   "outputs": [],
   "source": [
    "import pandas as pd\n",
    "from sklearn.model_selection import train_test_split"
   ]
  },
  {
   "cell_type": "code",
   "execution_count": 4,
   "metadata": {
    "scrolled": false
   },
   "outputs": [
    {
     "data": {
      "text/html": [
       "<div>\n",
       "<style scoped>\n",
       "    .dataframe tbody tr th:only-of-type {\n",
       "        vertical-align: middle;\n",
       "    }\n",
       "\n",
       "    .dataframe tbody tr th {\n",
       "        vertical-align: top;\n",
       "    }\n",
       "\n",
       "    .dataframe thead th {\n",
       "        text-align: right;\n",
       "    }\n",
       "</style>\n",
       "<table border=\"1\" class=\"dataframe\">\n",
       "  <thead>\n",
       "    <tr style=\"text-align: right;\">\n",
       "      <th></th>\n",
       "      <th>Unnamed: 0</th>\n",
       "      <th>question</th>\n",
       "      <th>answer</th>\n",
       "      <th>generated_fq</th>\n",
       "      <th>valid followUp (y/n)</th>\n",
       "      <th>rank</th>\n",
       "      <th>Unnamed: 6</th>\n",
       "    </tr>\n",
       "  </thead>\n",
       "  <tbody>\n",
       "    <tr>\n",
       "      <th>0</th>\n",
       "      <td>781</td>\n",
       "      <td>Are you a risk taker or do you stay away from ...</td>\n",
       "      <td>Actually it depends upon the condition where a...</td>\n",
       "      <td>How would you describe your life?</td>\n",
       "      <td>NaN</td>\n",
       "      <td>NaN</td>\n",
       "      <td>Deep</td>\n",
       "    </tr>\n",
       "    <tr>\n",
       "      <th>1</th>\n",
       "      <td>1486</td>\n",
       "      <td>Are you a risk taker or do you stay away from ...</td>\n",
       "      <td>Actually it depends upon the condition where a...</td>\n",
       "      <td>How do I decide if I am a risk taker or a risk...</td>\n",
       "      <td>NaN</td>\n",
       "      <td>NaN</td>\n",
       "      <td>NaN</td>\n",
       "    </tr>\n",
       "    <tr>\n",
       "      <th>2</th>\n",
       "      <td>2645</td>\n",
       "      <td>Are you a risk taker or do you stay away from ...</td>\n",
       "      <td>Actually it depends upon the condition where a...</td>\n",
       "      <td>How much risk?</td>\n",
       "      <td>NaN</td>\n",
       "      <td>NaN</td>\n",
       "      <td>NaN</td>\n",
       "    </tr>\n",
       "    <tr>\n",
       "      <th>3</th>\n",
       "      <td>3486</td>\n",
       "      <td>Are you a risk taker or do you stay away from ...</td>\n",
       "      <td>Actually it depends upon the condition where a...</td>\n",
       "      <td>How would you describe the problem?</td>\n",
       "      <td>NaN</td>\n",
       "      <td>NaN</td>\n",
       "      <td>NaN</td>\n",
       "    </tr>\n",
       "    <tr>\n",
       "      <th>4</th>\n",
       "      <td>5165</td>\n",
       "      <td>Are you a risk taker or do you stay away from ...</td>\n",
       "      <td>Actually it depends upon the condition where a...</td>\n",
       "      <td>Why ?</td>\n",
       "      <td>NaN</td>\n",
       "      <td>NaN</td>\n",
       "      <td>NaN</td>\n",
       "    </tr>\n",
       "  </tbody>\n",
       "</table>\n",
       "</div>"
      ],
      "text/plain": [
       "   Unnamed: 0                                           question  \\\n",
       "0         781  Are you a risk taker or do you stay away from ...   \n",
       "1        1486  Are you a risk taker or do you stay away from ...   \n",
       "2        2645  Are you a risk taker or do you stay away from ...   \n",
       "3        3486  Are you a risk taker or do you stay away from ...   \n",
       "4        5165  Are you a risk taker or do you stay away from ...   \n",
       "\n",
       "                                              answer  \\\n",
       "0  Actually it depends upon the condition where a...   \n",
       "1  Actually it depends upon the condition where a...   \n",
       "2  Actually it depends upon the condition where a...   \n",
       "3  Actually it depends upon the condition where a...   \n",
       "4  Actually it depends upon the condition where a...   \n",
       "\n",
       "                                        generated_fq  valid followUp (y/n)  \\\n",
       "0                  How would you describe your life?                   NaN   \n",
       "1  How do I decide if I am a risk taker or a risk...                   NaN   \n",
       "2                                     How much risk?                   NaN   \n",
       "3                How would you describe the problem?                   NaN   \n",
       "4                                              Why ?                   NaN   \n",
       "\n",
       "   rank Unnamed: 6  \n",
       "0   NaN       Deep  \n",
       "1   NaN        NaN  \n",
       "2   NaN        NaN  \n",
       "3   NaN        NaN  \n",
       "4   NaN        NaN  "
      ]
     },
     "execution_count": 4,
     "metadata": {},
     "output_type": "execute_result"
    }
   ],
   "source": [
    "df = pd.read_csv(\"follow_ML_data.csv\")\n",
    "df.head()"
   ]
  },
  {
   "cell_type": "code",
   "execution_count": 6,
   "metadata": {},
   "outputs": [],
   "source": [
    "df.drop(\"Unnamed: 0\", axis = 1, inplace = True)\n"
   ]
  },
  {
   "cell_type": "code",
   "execution_count": 7,
   "metadata": {},
   "outputs": [],
   "source": [
    "df.drop(\"valid followUp (y/n)\", axis = 1, inplace = True)\n"
   ]
  },
  {
   "cell_type": "code",
   "execution_count": 8,
   "metadata": {},
   "outputs": [],
   "source": [
    "df.drop(\"rank\", axis = 1, inplace = True)\n"
   ]
  },
  {
   "cell_type": "code",
   "execution_count": 9,
   "metadata": {},
   "outputs": [],
   "source": [
    "df.drop(\"Unnamed: 6\", axis = 1, inplace = True)\n"
   ]
  },
  {
   "cell_type": "code",
   "execution_count": 12,
   "metadata": {},
   "outputs": [],
   "source": [
    "X = df[\"answer\"]\n",
    "y = df[\"generated_fq\"]"
   ]
  },
  {
   "cell_type": "code",
   "execution_count": 13,
   "metadata": {},
   "outputs": [],
   "source": [
    "X_train, X_test, y_train, y_test = train_test_split(X, y, test_size=0.2, random_state=1)\n",
    "X_train, X_val, y_train, y_val = train_test_split(X_train, y_train, test_size=0.2, random_state=1)"
   ]
  },
  {
   "cell_type": "code",
   "execution_count": 16,
   "metadata": {},
   "outputs": [
    {
     "data": {
      "text/plain": [
       "(13440,)"
      ]
     },
     "execution_count": 16,
     "metadata": {},
     "output_type": "execute_result"
    }
   ],
   "source": [
    "X_train.shape"
   ]
  },
  {
   "cell_type": "code",
   "execution_count": 19,
   "metadata": {},
   "outputs": [],
   "source": [
    "X_train.to_csv(r'src-train.txt', header=False, index = False, sep='\\n', mode='w')\n",
    "X_val.to_csv(r'src-val.txt', header=False, index = False, sep='\\n', mode='w')\n",
    "X_test.to_csv(r'src-test.txt', header=False, index = False, sep='\\n', mode='w')\n",
    "y_train.to_csv(r'tgt-train.txt', header=False, index = False, sep='\\n', mode='w')\n",
    "y_val.to_csv(r'tgt-val.txt', header=False, index = False, sep='\\n', mode='w')\n",
    "y_test.to_csv(r'tgt-test.txt', header=False, index = False, sep='\\n', mode='w')"
   ]
  },
  {
   "cell_type": "code",
   "execution_count": null,
   "metadata": {},
   "outputs": [],
   "source": []
  }
 ],
 "metadata": {
  "kernelspec": {
   "display_name": "Python 3",
   "language": "python",
   "name": "python3"
  },
  "language_info": {
   "codemirror_mode": {
    "name": "ipython",
    "version": 3
   },
   "file_extension": ".py",
   "mimetype": "text/x-python",
   "name": "python",
   "nbconvert_exporter": "python",
   "pygments_lexer": "ipython3",
   "version": "3.7.3"
  }
 },
 "nbformat": 4,
 "nbformat_minor": 2
}
