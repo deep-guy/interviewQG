{
 "cells": [
  {
   "cell_type": "code",
   "execution_count": 1,
   "metadata": {},
   "outputs": [],
   "source": [
    "import pandas as pd\n",
    "from sklearn.model_selection import train_test_split"
   ]
  },
  {
   "cell_type": "code",
   "execution_count": 2,
   "metadata": {},
   "outputs": [
    {
     "data": {
      "text/html": [
       "<div>\n",
       "<style scoped>\n",
       "    .dataframe tbody tr th:only-of-type {\n",
       "        vertical-align: middle;\n",
       "    }\n",
       "\n",
       "    .dataframe tbody tr th {\n",
       "        vertical-align: top;\n",
       "    }\n",
       "\n",
       "    .dataframe thead th {\n",
       "        text-align: right;\n",
       "    }\n",
       "</style>\n",
       "<table border=\"1\" class=\"dataframe\">\n",
       "  <thead>\n",
       "    <tr style=\"text-align: right;\">\n",
       "      <th></th>\n",
       "      <th>0</th>\n",
       "      <th>1</th>\n",
       "      <th>2</th>\n",
       "    </tr>\n",
       "  </thead>\n",
       "  <tbody>\n",
       "    <tr>\n",
       "      <th>0</th>\n",
       "      <td>If an object is attracted to a magnet, the obj...</td>\n",
       "      <td>5</td>\n",
       "      <td>If,0|an,0|object,3|is,0|attracted,5|to,0|a,0|m...</td>\n",
       "    </tr>\n",
       "    <tr>\n",
       "      <th>1</th>\n",
       "      <td>Animals get energy for growth and repair from ...</td>\n",
       "      <td>5</td>\n",
       "      <td>Animals,4|get,1|energy,5|for,0|growth,4|and,0|...</td>\n",
       "    </tr>\n",
       "    <tr>\n",
       "      <th>2</th>\n",
       "      <td>How long does it take for Earth to rotate on i...</td>\n",
       "      <td>5</td>\n",
       "      <td>How,0|long,3|does,0|it,0|take,0|for,0|Earth,5|...</td>\n",
       "    </tr>\n",
       "    <tr>\n",
       "      <th>3</th>\n",
       "      <td>What is the main source of energy for the wate...</td>\n",
       "      <td>5</td>\n",
       "      <td>What,0|is,0|the,0|main,1|source,3|of,0|energy,...</td>\n",
       "    </tr>\n",
       "    <tr>\n",
       "      <th>4</th>\n",
       "      <td>An example of a learned trait is (A) being abl...</td>\n",
       "      <td>5</td>\n",
       "      <td>An,0|example,0|of,0|a,0|learned,5|trait,5|is,0</td>\n",
       "    </tr>\n",
       "  </tbody>\n",
       "</table>\n",
       "</div>"
      ],
      "text/plain": [
       "                                                   0  1  \\\n",
       "0  If an object is attracted to a magnet, the obj...  5   \n",
       "1  Animals get energy for growth and repair from ...  5   \n",
       "2  How long does it take for Earth to rotate on i...  5   \n",
       "3  What is the main source of energy for the wate...  5   \n",
       "4  An example of a learned trait is (A) being abl...  5   \n",
       "\n",
       "                                                   2  \n",
       "0  If,0|an,0|object,3|is,0|attracted,5|to,0|a,0|m...  \n",
       "1  Animals,4|get,1|energy,5|for,0|growth,4|and,0|...  \n",
       "2  How,0|long,3|does,0|it,0|take,0|for,0|Earth,5|...  \n",
       "3  What,0|is,0|the,0|main,1|source,3|of,0|energy,...  \n",
       "4     An,0|example,0|of,0|a,0|learned,5|trait,5|is,0  "
      ]
     },
     "execution_count": 2,
     "metadata": {},
     "output_type": "execute_result"
    }
   ],
   "source": [
    "df = pd.read_csv('essentialterms.tsv',delimiter='\\t', header = None)\n",
    "df.head()"
   ]
  },
  {
   "cell_type": "code",
   "execution_count": 3,
   "metadata": {},
   "outputs": [
    {
     "data": {
      "text/html": [
       "<div>\n",
       "<style scoped>\n",
       "    .dataframe tbody tr th:only-of-type {\n",
       "        vertical-align: middle;\n",
       "    }\n",
       "\n",
       "    .dataframe tbody tr th {\n",
       "        vertical-align: top;\n",
       "    }\n",
       "\n",
       "    .dataframe thead th {\n",
       "        text-align: right;\n",
       "    }\n",
       "</style>\n",
       "<table border=\"1\" class=\"dataframe\">\n",
       "  <thead>\n",
       "    <tr style=\"text-align: right;\">\n",
       "      <th></th>\n",
       "      <th>2</th>\n",
       "    </tr>\n",
       "  </thead>\n",
       "  <tbody>\n",
       "    <tr>\n",
       "      <th>0</th>\n",
       "      <td>If,0|an,0|object,3|is,0|attracted,5|to,0|a,0|m...</td>\n",
       "    </tr>\n",
       "    <tr>\n",
       "      <th>1</th>\n",
       "      <td>Animals,4|get,1|energy,5|for,0|growth,4|and,0|...</td>\n",
       "    </tr>\n",
       "    <tr>\n",
       "      <th>2</th>\n",
       "      <td>How,0|long,3|does,0|it,0|take,0|for,0|Earth,5|...</td>\n",
       "    </tr>\n",
       "    <tr>\n",
       "      <th>3</th>\n",
       "      <td>What,0|is,0|the,0|main,1|source,3|of,0|energy,...</td>\n",
       "    </tr>\n",
       "    <tr>\n",
       "      <th>4</th>\n",
       "      <td>An,0|example,0|of,0|a,0|learned,5|trait,5|is,0</td>\n",
       "    </tr>\n",
       "  </tbody>\n",
       "</table>\n",
       "</div>"
      ],
      "text/plain": [
       "                                                   2\n",
       "0  If,0|an,0|object,3|is,0|attracted,5|to,0|a,0|m...\n",
       "1  Animals,4|get,1|energy,5|for,0|growth,4|and,0|...\n",
       "2  How,0|long,3|does,0|it,0|take,0|for,0|Earth,5|...\n",
       "3  What,0|is,0|the,0|main,1|source,3|of,0|energy,...\n",
       "4     An,0|example,0|of,0|a,0|learned,5|trait,5|is,0"
      ]
     },
     "execution_count": 3,
     "metadata": {},
     "output_type": "execute_result"
    }
   ],
   "source": [
    "df.drop(0, axis=1, inplace = True)\n",
    "df.drop(1, axis = 1, inplace = True)\n",
    "df.head()"
   ]
  },
  {
   "cell_type": "code",
   "execution_count": 4,
   "metadata": {},
   "outputs": [],
   "source": [
    "df.to_csv (r'data.txt', index = None, header=False)"
   ]
  },
  {
   "cell_type": "code",
   "execution_count": 6,
   "metadata": {},
   "outputs": [],
   "source": [
    "with open('data.txt') as fp:\n",
    "    with open('mod_data.txt', 'w') as fp1:\n",
    "        line = fp.readline()\n",
    "        while(line):\n",
    "            line = line.strip().strip(\"\\\"\")\n",
    "            line = line.replace(\",\", '/')\n",
    "            line = line.replace('|', ' ')\n",
    "            fp1.write(line)\n",
    "            fp1.write('\\n')\n",
    "            line = fp.readline()\n",
    "        "
   ]
  },
  {
   "cell_type": "code",
   "execution_count": 7,
   "metadata": {},
   "outputs": [
    {
     "data": {
      "text/html": [
       "<div>\n",
       "<style scoped>\n",
       "    .dataframe tbody tr th:only-of-type {\n",
       "        vertical-align: middle;\n",
       "    }\n",
       "\n",
       "    .dataframe tbody tr th {\n",
       "        vertical-align: top;\n",
       "    }\n",
       "\n",
       "    .dataframe thead th {\n",
       "        text-align: right;\n",
       "    }\n",
       "</style>\n",
       "<table border=\"1\" class=\"dataframe\">\n",
       "  <thead>\n",
       "    <tr style=\"text-align: right;\">\n",
       "      <th></th>\n",
       "      <th>0</th>\n",
       "    </tr>\n",
       "  </thead>\n",
       "  <tbody>\n",
       "    <tr>\n",
       "      <th>0</th>\n",
       "      <td>If/0 an/0 object/3 is/0 attracted/5 to/0 a/0 m...</td>\n",
       "    </tr>\n",
       "    <tr>\n",
       "      <th>1</th>\n",
       "      <td>Animals/4 get/1 energy/5 for/0 growth/4 and/0 ...</td>\n",
       "    </tr>\n",
       "    <tr>\n",
       "      <th>2</th>\n",
       "      <td>How/0 long/3 does/0 it/0 take/0 for/0 Earth/5 ...</td>\n",
       "    </tr>\n",
       "    <tr>\n",
       "      <th>3</th>\n",
       "      <td>What/0 is/0 the/0 main/1 source/3 of/0 energy/...</td>\n",
       "    </tr>\n",
       "    <tr>\n",
       "      <th>4</th>\n",
       "      <td>An/0 example/0 of/0 a/0 learned/5 trait/5 is/0</td>\n",
       "    </tr>\n",
       "  </tbody>\n",
       "</table>\n",
       "</div>"
      ],
      "text/plain": [
       "                                                   0\n",
       "0  If/0 an/0 object/3 is/0 attracted/5 to/0 a/0 m...\n",
       "1  Animals/4 get/1 energy/5 for/0 growth/4 and/0 ...\n",
       "2  How/0 long/3 does/0 it/0 take/0 for/0 Earth/5 ...\n",
       "3  What/0 is/0 the/0 main/1 source/3 of/0 energy/...\n",
       "4     An/0 example/0 of/0 a/0 learned/5 trait/5 is/0"
      ]
     },
     "execution_count": 7,
     "metadata": {},
     "output_type": "execute_result"
    }
   ],
   "source": [
    "df = pd.read_csv('mod_data.txt',delimiter='\\t', header = None)\n",
    "df.head()"
   ]
  },
  {
   "cell_type": "code",
   "execution_count": 8,
   "metadata": {},
   "outputs": [],
   "source": [
    " X_train, X_test = train_test_split(df, test_size=0.2, random_state=1)\n",
    "\n",
    " X_train, X_val = train_test_split(X_train, test_size=0.2, random_state=1)\n"
   ]
  },
  {
   "cell_type": "code",
   "execution_count": 9,
   "metadata": {},
   "outputs": [],
   "source": [
    "X_train.to_csv (r'train.txt', index = None, header=False)\n",
    "X_test.to_csv (r'test.txt', index = None, header=False)\n",
    "X_val.to_csv (r'val.txt', index = None, header=False)"
   ]
  },
  {
   "cell_type": "code",
   "execution_count": null,
   "metadata": {},
   "outputs": [],
   "source": []
  }
 ],
 "metadata": {
  "kernelspec": {
   "display_name": "Python 3",
   "language": "python",
   "name": "python3"
  },
  "language_info": {
   "codemirror_mode": {
    "name": "ipython",
    "version": 3
   },
   "file_extension": ".py",
   "mimetype": "text/x-python",
   "name": "python",
   "nbconvert_exporter": "python",
   "pygments_lexer": "ipython3",
   "version": "3.7.3"
  }
 },
 "nbformat": 4,
 "nbformat_minor": 2
}
